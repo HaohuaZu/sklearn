{
 "cells": [
  {
   "cell_type": "code",
   "execution_count": 1,
   "id": "a34add3e",
   "metadata": {},
   "outputs": [],
   "source": [
    "#标准化是令数据实现均值为0，方差为1的正态分布\n",
    "from sklearn.preprocessing import StandardScaler\n",
    "data = [[-1, 2], [-0.5, 6], [0, 10], [1, 18]]"
   ]
  },
  {
   "cell_type": "code",
   "execution_count": 2,
   "id": "d8ab2e8c",
   "metadata": {},
   "outputs": [
    {
     "data": {
      "text/plain": [
       "StandardScaler()"
      ]
     },
     "execution_count": 2,
     "metadata": {},
     "output_type": "execute_result"
    }
   ],
   "source": [
    "#实例化\n",
    "scaler = StandardScaler()                          \n",
    "#fit，本质是生成均值和方差\n",
    "scaler.fit(data)                                    "
   ]
  },
  {
   "cell_type": "code",
   "execution_count": 3,
   "id": "b51aafe1",
   "metadata": {},
   "outputs": [
    {
     "data": {
      "text/plain": [
       "array([-0.125,  9.   ])"
      ]
     },
     "execution_count": 3,
     "metadata": {},
     "output_type": "execute_result"
    }
   ],
   "source": [
    "#查看均值的属性mean_\n",
    "scaler.mean_                                       "
   ]
  },
  {
   "cell_type": "code",
   "execution_count": 4,
   "id": "190ef978",
   "metadata": {},
   "outputs": [
    {
     "data": {
      "text/plain": [
       "array([ 0.546875, 35.      ])"
      ]
     },
     "execution_count": 4,
     "metadata": {},
     "output_type": "execute_result"
    }
   ],
   "source": [
    "#查看方差的属性var_\n",
    "scaler.var_                                         "
   ]
  },
  {
   "cell_type": "code",
   "execution_count": 5,
   "id": "58f908b3",
   "metadata": {},
   "outputs": [
    {
     "data": {
      "text/plain": [
       "array([[-1.18321596, -1.18321596],\n",
       "       [-0.50709255, -0.50709255],\n",
       "       [ 0.16903085,  0.16903085],\n",
       "       [ 1.52127766,  1.52127766]])"
      ]
     },
     "execution_count": 5,
     "metadata": {},
     "output_type": "execute_result"
    }
   ],
   "source": [
    "x_std = scaler.transform(data)                      #通过接口导出结果\n",
    "x_std"
   ]
  },
  {
   "cell_type": "code",
   "execution_count": 6,
   "id": "313508d2",
   "metadata": {},
   "outputs": [
    {
     "data": {
      "text/plain": [
       "0.0"
      ]
     },
     "execution_count": 6,
     "metadata": {},
     "output_type": "execute_result"
    }
   ],
   "source": [
    "#导出的结果是一个数组，用mean()查看均值\n",
    "x_std.mean()"
   ]
  },
  {
   "cell_type": "code",
   "execution_count": 7,
   "id": "d2ee794e",
   "metadata": {},
   "outputs": [
    {
     "data": {
      "text/plain": [
       "1.0"
      ]
     },
     "execution_count": 7,
     "metadata": {},
     "output_type": "execute_result"
    }
   ],
   "source": [
    "#用std()查看方差\n",
    "x_std.std()"
   ]
  },
  {
   "cell_type": "code",
   "execution_count": 8,
   "id": "183fc479",
   "metadata": {},
   "outputs": [
    {
     "data": {
      "text/plain": [
       "array([[-1.18321596, -1.18321596],\n",
       "       [-0.50709255, -0.50709255],\n",
       "       [ 0.16903085,  0.16903085],\n",
       "       [ 1.52127766,  1.52127766]])"
      ]
     },
     "execution_count": 8,
     "metadata": {},
     "output_type": "execute_result"
    }
   ],
   "source": [
    "#使用fit_transform(data)一步达成结果\n",
    "scaler.fit_transform(data)"
   ]
  },
  {
   "cell_type": "code",
   "execution_count": 9,
   "id": "a3da72fa",
   "metadata": {},
   "outputs": [
    {
     "data": {
      "text/plain": [
       "array([[-1. ,  2. ],\n",
       "       [-0.5,  6. ],\n",
       "       [ 0. , 10. ],\n",
       "       [ 1. , 18. ]])"
      ]
     },
     "execution_count": 9,
     "metadata": {},
     "output_type": "execute_result"
    }
   ],
   "source": [
    "#使用inverse_transform逆转标准化\n",
    "scaler.inverse_transform(x_std)"
   ]
  },
  {
   "cell_type": "code",
   "execution_count": null,
   "id": "b3cd63e6",
   "metadata": {},
   "outputs": [],
   "source": [
    "#大部分机器学习中使用标准化，只缩放不中心化不会影响稀疏性"
   ]
  }
 ],
 "metadata": {
  "kernelspec": {
   "display_name": "Python 3 (ipykernel)",
   "language": "python",
   "name": "python3"
  },
  "language_info": {
   "codemirror_mode": {
    "name": "ipython",
    "version": 3
   },
   "file_extension": ".py",
   "mimetype": "text/x-python",
   "name": "python",
   "nbconvert_exporter": "python",
   "pygments_lexer": "ipython3",
   "version": "3.9.12"
  }
 },
 "nbformat": 4,
 "nbformat_minor": 5
}
